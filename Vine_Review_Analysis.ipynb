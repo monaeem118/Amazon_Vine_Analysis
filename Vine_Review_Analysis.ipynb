{
  "nbformat": 4,
  "nbformat_minor": 0,
  "metadata": {
    "colab": {
      "name": "Vine_Review_Analysis.ipynb",
      "provenance": [],
      "collapsed_sections": []
    },
    "kernelspec": {
      "display_name": "PythonData",
      "language": "python",
      "name": "pythondata"
    },
    "language_info": {
      "codemirror_mode": {
        "name": "ipython",
        "version": 3
      },
      "file_extension": ".py",
      "mimetype": "text/x-python",
      "name": "python",
      "nbconvert_exporter": "python",
      "pygments_lexer": "ipython3",
      "version": "3.7.7"
    },
    "nteract": {
      "version": "0.12.3"
    }
  },
  "cells": [
    {
      "cell_type": "code",
      "metadata": {
        "id": "V58rxea0HqSa",
        "outputId": "c027faea-50e0-4ea6-cadb-20fa4afb22b3",
        "colab": {
          "base_uri": "https://localhost:8080/"
        }
      },
      "source": [
        "import os\n",
        "# Find the latest version of spark 2.0  from http://www-us.apache.org/dist/spark/ and enter as the spark version\n",
        "# For example:\n",
        "# spark_version = 'spark-3.0.0'\n",
        "spark_version = 'spark-3.0.1'\n",
        "os.environ['SPARK_VERSION']=spark_version\n",
        "\n",
        "# Install Spark and Java\n",
        "!apt-get update\n",
        "!apt-get install openjdk-11-jdk-headless -qq > /dev/null\n",
        "!wget -q http://www-us.apache.org/dist/spark/$SPARK_VERSION/$SPARK_VERSION-bin-hadoop2.7.tgz\n",
        "!tar xf $SPARK_VERSION-bin-hadoop2.7.tgz\n",
        "!pip install -q findspark\n",
        "\n",
        "# Set Environment Variables\n",
        "import os\n",
        "os.environ[\"JAVA_HOME\"] = \"/usr/lib/jvm/java-11-openjdk-amd64\"\n",
        "os.environ[\"SPARK_HOME\"] = f\"/content/{spark_version}-bin-hadoop2.7\"\n",
        "\n",
        "# Start a SparkSession\n",
        "import findspark\n",
        "findspark.init()"
      ],
      "execution_count": 8,
      "outputs": [
        {
          "output_type": "stream",
          "text": [
            "\r0% [Working]\r            \rHit:1 https://cloud.r-project.org/bin/linux/ubuntu bionic-cran40/ InRelease\n",
            "\r0% [Connecting to archive.ubuntu.com] [Connecting to security.ubuntu.com (91.18\r                                                                               \rIgn:2 https://developer.download.nvidia.com/compute/cuda/repos/ubuntu1804/x86_64  InRelease\n",
            "Ign:3 https://developer.download.nvidia.com/compute/machine-learning/repos/ubuntu1804/x86_64  InRelease\n",
            "Hit:4 https://developer.download.nvidia.com/compute/cuda/repos/ubuntu1804/x86_64  Release\n",
            "Hit:5 https://developer.download.nvidia.com/compute/machine-learning/repos/ubuntu1804/x86_64  Release\n",
            "Get:6 http://security.ubuntu.com/ubuntu bionic-security InRelease [88.7 kB]\n",
            "Get:7 http://ppa.launchpad.net/c2d4u.team/c2d4u4.0+/ubuntu bionic InRelease [15.9 kB]\n",
            "Hit:8 http://archive.ubuntu.com/ubuntu bionic InRelease\n",
            "Get:9 http://archive.ubuntu.com/ubuntu bionic-updates InRelease [88.7 kB]\n",
            "Hit:11 http://ppa.launchpad.net/graphics-drivers/ppa/ubuntu bionic InRelease\n",
            "Get:13 http://archive.ubuntu.com/ubuntu bionic-backports InRelease [74.6 kB]\n",
            "Get:14 http://ppa.launchpad.net/c2d4u.team/c2d4u4.0+/ubuntu bionic/main Sources [1,688 kB]\n",
            "Get:15 http://ppa.launchpad.net/c2d4u.team/c2d4u4.0+/ubuntu bionic/main amd64 Packages [864 kB]\n",
            "Fetched 2,820 kB in 4s (749 kB/s)\n",
            "Reading package lists... Done\n"
          ],
          "name": "stdout"
        }
      ]
    },
    {
      "cell_type": "code",
      "metadata": {
        "id": "_xKwTpATHqSe",
        "outputId": "6a4c3170-77d8-4a90-b6aa-61d8a8a88f88",
        "colab": {
          "base_uri": "https://localhost:8080/"
        }
      },
      "source": [
        "# Download the Postgres driver that will allow Spark to interact with Postgres.\n",
        "!wget https://jdbc.postgresql.org/download/postgresql-42.2.16.jar"
      ],
      "execution_count": 9,
      "outputs": [
        {
          "output_type": "stream",
          "text": [
            "--2020-11-15 03:35:12--  https://jdbc.postgresql.org/download/postgresql-42.2.16.jar\n",
            "Resolving jdbc.postgresql.org (jdbc.postgresql.org)... 72.32.157.228, 2001:4800:3e1:1::228\n",
            "Connecting to jdbc.postgresql.org (jdbc.postgresql.org)|72.32.157.228|:443... connected.\n",
            "HTTP request sent, awaiting response... 200 OK\n",
            "Length: 1002883 (979K) [application/java-archive]\n",
            "Saving to: ‘postgresql-42.2.16.jar.1’\n",
            "\n",
            "postgresql-42.2.16. 100%[===================>] 979.38K  4.00MB/s    in 0.2s    \n",
            "\n",
            "2020-11-15 03:35:12 (4.00 MB/s) - ‘postgresql-42.2.16.jar.1’ saved [1002883/1002883]\n",
            "\n"
          ],
          "name": "stdout"
        }
      ]
    },
    {
      "cell_type": "code",
      "metadata": {
        "id": "MMqDAjVS0KN9"
      },
      "source": [
        "from pyspark.sql import SparkSession\n",
        "spark = SparkSession.builder.appName(\"BigData-Challenge\").config(\"spark.driver.extraClassPath\",\"/content/postgresql-42.2.16.jar\").getOrCreate()"
      ],
      "execution_count": 10,
      "outputs": []
    },
    {
      "cell_type": "code",
      "metadata": {
        "id": "7jiUvs1aY--L"
      },
      "source": [
        "# Configure settings for RDS\n",
        "mode = \"append\"\n",
        "jdbc_url=\"jdbc:postgresql://dataviz.clzu7bsd0lkj.us-east-2.rds.amazonaws.com:5432/dataviz\"\n",
        "config = {\"user\":\"postgres\", \n",
        "          \"password\": \"postgres\", \n",
        "          \"driver\":\"org.postgresql.Driver\"}"
      ],
      "execution_count": 17,
      "outputs": []
    },
    {
      "cell_type": "code",
      "metadata": {
        "id": "Exuo6ebUsCqW"
      },
      "source": [
        "# Read vine table from DB\n",
        "total_votes_greater_than_20_df = spark.read.jdbc(url=jdbc_url, table='vine_table', properties=config)"
      ],
      "execution_count": 21,
      "outputs": []
    },
    {
      "cell_type": "code",
      "metadata": {
        "id": "1Y30UDkZR0-X",
        "outputId": "6e4c7c9d-cbb8-4432-942d-9edcb8dc456e",
        "colab": {
          "base_uri": "https://localhost:8080/"
        }
      },
      "source": [
        "# Filter rows where total_votes >= 20\n",
        "total_votes_greater_than_20_df = total_votes_greater_than_20_df.filter(\"total_votes >= 20\")\n",
        "total_votes_greater_than_20_df.show()"
      ],
      "execution_count": 22,
      "outputs": [
        {
          "output_type": "stream",
          "text": [
            "+--------------+-----------+-------------+-----------+----+-----------------+\n",
            "|     review_id|star_rating|helpful_votes|total_votes|vine|verified_purchase|\n",
            "+--------------+-----------+-------------+-----------+----+-----------------+\n",
            "|R100SKP4VNPS64|          4|           16|         31|   N|                N|\n",
            "|R101B0XO8UYAFV|          1|           28|         64|   N|                N|\n",
            "|R101R383QPHMT0|          5|           54|         64|   N|                Y|\n",
            "|R102XNXFT1X2RM|          1|            1|         28|   N|                Y|\n",
            "|R106N542MSESIP|          1|          141|        146|   N|                N|\n",
            "|R10BY5YZCSAQKO|          2|           63|         67|   N|                Y|\n",
            "|R10CC1IHT9G7JN|          2|           14|         20|   N|                N|\n",
            "|R10CXBBUL1CXQC|          2|           18|         24|   N|                Y|\n",
            "|R100FQFUKK14IT|          1|           23|         26|   N|                N|\n",
            "|R1019CTUOIYURH|          4|           30|         31|   N|                N|\n",
            "|R102DSNH83GVND|          1|            9|         20|   N|                N|\n",
            "|R103M7Q7HT010H|          5|           19|        118|   N|                N|\n",
            "|R105MME4E78BTD|          1|           27|         29|   N|                Y|\n",
            "|R108UQHPGJZSKL|          1|            4|         33|   N|                N|\n",
            "| R109JJB0MU2QK|          5|           76|         80|   N|                N|\n",
            "|R10BLBCX3SC337|          5|           12|         22|   N|                N|\n",
            "|R10CB5XHZ4AWR1|          1|           40|        119|   N|                N|\n",
            "|R10KFTHYT1FQDE|          1|           14|         34|   N|                N|\n",
            "|R10MFEKSS7YD61|          5|           15|         25|   N|                N|\n",
            "|R10PGOC96PSAO6|          5|           38|         63|   N|                N|\n",
            "+--------------+-----------+-------------+-----------+----+-----------------+\n",
            "only showing top 20 rows\n",
            "\n"
          ],
          "name": "stdout"
        }
      ]
    },
    {
      "cell_type": "code",
      "metadata": {
        "id": "RqNqlDiESYBI",
        "outputId": "99c2a965-4d6a-42f1-c0bf-6ff91ad714cd",
        "colab": {
          "base_uri": "https://localhost:8080/"
        }
      },
      "source": [
        "# Create new df where helpful_votes/total_votes >= 50%\n",
        "new_helpful_df = total_votes_greater_than_20_df.filter(\"cast(helpful_votes as float)/cast(total_votes as float) >=0.5\")\n",
        "new_helpful_df.show()"
      ],
      "execution_count": 24,
      "outputs": [
        {
          "output_type": "stream",
          "text": [
            "+--------------+-----------+-------------+-----------+----+-----------------+\n",
            "|     review_id|star_rating|helpful_votes|total_votes|vine|verified_purchase|\n",
            "+--------------+-----------+-------------+-----------+----+-----------------+\n",
            "|R100SKP4VNPS64|          4|           16|         31|   N|                N|\n",
            "|R101R383QPHMT0|          5|           54|         64|   N|                Y|\n",
            "|R106N542MSESIP|          1|          141|        146|   N|                N|\n",
            "|R10BY5YZCSAQKO|          2|           63|         67|   N|                Y|\n",
            "|R10CC1IHT9G7JN|          2|           14|         20|   N|                N|\n",
            "|R10CXBBUL1CXQC|          2|           18|         24|   N|                Y|\n",
            "|R100FQFUKK14IT|          1|           23|         26|   N|                N|\n",
            "|R1019CTUOIYURH|          4|           30|         31|   N|                N|\n",
            "|R105MME4E78BTD|          1|           27|         29|   N|                Y|\n",
            "| R109JJB0MU2QK|          5|           76|         80|   N|                N|\n",
            "|R10BLBCX3SC337|          5|           12|         22|   N|                N|\n",
            "|R10MFEKSS7YD61|          5|           15|         25|   N|                N|\n",
            "|R10PGOC96PSAO6|          5|           38|         63|   N|                N|\n",
            "|R10PYV0IQPFG27|          5|           35|         36|   N|                N|\n",
            "|R10Q2C6DDGG7DL|          3|           19|         22|   N|                N|\n",
            "|R10QZ0W1WVJU5N|          3|           15|         24|   N|                Y|\n",
            "|R10TJJIAD5ZJEY|          1|           54|         59|   N|                N|\n",
            "|R10HL9JMWLN73L|          2|           65|         69|   N|                N|\n",
            "|R10J694K5MUESB|          3|           53|         53|   N|                N|\n",
            "|R10JBLYP5KH11Q|          4|           45|         51|   N|                Y|\n",
            "+--------------+-----------+-------------+-----------+----+-----------------+\n",
            "only showing top 20 rows\n",
            "\n"
          ],
          "name": "stdout"
        }
      ]
    },
    {
      "cell_type": "code",
      "metadata": {
        "id": "V8Ccl4tSUkmj",
        "outputId": "b2ba0bdd-c95e-4d20-81be-4d86abfec9f4",
        "colab": {
          "base_uri": "https://localhost:8080/"
        }
      },
      "source": [
        "# retrieves all the rows where a review was written as part of the Vine program (paid)\n",
        "paid_df = new_helpful_df.filter(\"vine == 'Y'\")\n",
        "paid_df.show()"
      ],
      "execution_count": 25,
      "outputs": [
        {
          "output_type": "stream",
          "text": [
            "+--------------+-----------+-------------+-----------+----+-----------------+\n",
            "|     review_id|star_rating|helpful_votes|total_votes|vine|verified_purchase|\n",
            "+--------------+-----------+-------------+-----------+----+-----------------+\n",
            "|R11WA24YVPYIFT|          5|           31|         33|   Y|                N|\n",
            "|R13D9ZLGOK5K46|          4|           75|         84|   Y|                N|\n",
            "|R1OVB8L2G5A4EZ|          3|          110|        127|   Y|                N|\n",
            "|R15KKF1D2XBERX|          4|           60|         65|   Y|                N|\n",
            "|R1B694RKMRB0F6|          3|           12|         20|   Y|                N|\n",
            "|R1LOB0ARENHYEN|          4|           18|         21|   Y|                N|\n",
            "|R1M9Z60KAE6KE7|          4|           23|         29|   Y|                N|\n",
            "|R19WIDEQ6R1WJS|          3|           16|         21|   Y|                N|\n",
            "|R2374OUB2CIONO|          5|           67|         68|   Y|                N|\n",
            "|R1VC63NU26XPUH|          3|           11|         21|   Y|                N|\n",
            "|R1YCQQ6S0PZYX4|          4|           55|         59|   Y|                N|\n",
            "|R1ZF6IA2RZD1GH|          5|           61|         67|   Y|                N|\n",
            "|R21SXHM3WXJOJ6|          2|           17|         22|   Y|                N|\n",
            "|R2W1YSN7EMNYEF|          2|           30|         44|   Y|                N|\n",
            "|R2HY549MLOZ1MV|          5|           66|         73|   Y|                N|\n",
            "|R2IFCPT86A9VI8|          2|           26|         30|   Y|                N|\n",
            "|R2IJC231E16YYD|          5|           15|         22|   Y|                N|\n",
            "|R2J8RDGHN0XZBQ|          5|           33|         35|   Y|                N|\n",
            "|R2LNV637GOLZ0B|          5|           21|         23|   Y|                N|\n",
            "| R2L2YEAV195BQ|          3|           17|         24|   Y|                N|\n",
            "+--------------+-----------+-------------+-----------+----+-----------------+\n",
            "only showing top 20 rows\n",
            "\n"
          ],
          "name": "stdout"
        }
      ]
    },
    {
      "cell_type": "code",
      "metadata": {
        "id": "He_cqWWZV143",
        "outputId": "525f35f0-07b1-4963-bf27-c213a23d6a61",
        "colab": {
          "base_uri": "https://localhost:8080/"
        }
      },
      "source": [
        "# retrieve all the rows where the review was not part of the Vine program (unpaid)\n",
        "unpaid_df = new_helpful_df.filter(\"vine == 'N'\")\n",
        "unpaid_df.show()"
      ],
      "execution_count": 26,
      "outputs": [
        {
          "output_type": "stream",
          "text": [
            "+--------------+-----------+-------------+-----------+----+-----------------+\n",
            "|     review_id|star_rating|helpful_votes|total_votes|vine|verified_purchase|\n",
            "+--------------+-----------+-------------+-----------+----+-----------------+\n",
            "|R100SKP4VNPS64|          4|           16|         31|   N|                N|\n",
            "|R101R383QPHMT0|          5|           54|         64|   N|                Y|\n",
            "|R106N542MSESIP|          1|          141|        146|   N|                N|\n",
            "|R10BY5YZCSAQKO|          2|           63|         67|   N|                Y|\n",
            "|R10CC1IHT9G7JN|          2|           14|         20|   N|                N|\n",
            "|R10CXBBUL1CXQC|          2|           18|         24|   N|                Y|\n",
            "|R100FQFUKK14IT|          1|           23|         26|   N|                N|\n",
            "|R1019CTUOIYURH|          4|           30|         31|   N|                N|\n",
            "|R105MME4E78BTD|          1|           27|         29|   N|                Y|\n",
            "| R109JJB0MU2QK|          5|           76|         80|   N|                N|\n",
            "|R10BLBCX3SC337|          5|           12|         22|   N|                N|\n",
            "|R10MFEKSS7YD61|          5|           15|         25|   N|                N|\n",
            "|R10PGOC96PSAO6|          5|           38|         63|   N|                N|\n",
            "|R10PYV0IQPFG27|          5|           35|         36|   N|                N|\n",
            "|R10Q2C6DDGG7DL|          3|           19|         22|   N|                N|\n",
            "|R10QZ0W1WVJU5N|          3|           15|         24|   N|                Y|\n",
            "|R10TJJIAD5ZJEY|          1|           54|         59|   N|                N|\n",
            "|R10HL9JMWLN73L|          2|           65|         69|   N|                N|\n",
            "|R10J694K5MUESB|          3|           53|         53|   N|                N|\n",
            "|R10JBLYP5KH11Q|          4|           45|         51|   N|                Y|\n",
            "+--------------+-----------+-------------+-----------+----+-----------------+\n",
            "only showing top 20 rows\n",
            "\n"
          ],
          "name": "stdout"
        }
      ]
    },
    {
      "cell_type": "code",
      "metadata": {
        "id": "PGoCoTwBWIEF"
      },
      "source": [
        "# Determine the total number of reviews\n",
        "total_reviews_df = spark.read.jdbc(url=jdbc_url, table='vine_table', properties=config)\n",
        "total_number_of_reviews = total_reviews_df.count()"
      ],
      "execution_count": 28,
      "outputs": []
    },
    {
      "cell_type": "code",
      "metadata": {
        "id": "OFbNrg4BYoC8",
        "outputId": "8a631228-1b0d-4c9c-f993-8bab3cc096f5",
        "colab": {
          "base_uri": "https://localhost:8080/"
        }
      },
      "source": [
        "total_number_of_reviews"
      ],
      "execution_count": 29,
      "outputs": [
        {
          "output_type": "execute_result",
          "data": {
            "text/plain": [
              "6106719"
            ]
          },
          "metadata": {
            "tags": []
          },
          "execution_count": 29
        }
      ]
    },
    {
      "cell_type": "code",
      "metadata": {
        "id": "QI3SEs1dZqoq",
        "outputId": "cd5e0564-26e9-417c-bdb7-5030bc8632da",
        "colab": {
          "base_uri": "https://localhost:8080/"
        }
      },
      "source": [
        "# the number of paid 5-star reviews\n",
        "paid_five_star_reviews = paid_df.filter(\"star_rating == 5\").count()\n",
        "paid_five_star_reviews"
      ],
      "execution_count": 34,
      "outputs": [
        {
          "output_type": "execute_result",
          "data": {
            "text/plain": [
              "1604"
            ]
          },
          "metadata": {
            "tags": []
          },
          "execution_count": 34
        }
      ]
    },
    {
      "cell_type": "code",
      "metadata": {
        "id": "nXjggLMLaspg",
        "outputId": "aaea82ea-d5eb-411f-ab80-30cef672a77b",
        "colab": {
          "base_uri": "https://localhost:8080/"
        }
      },
      "source": [
        "# the number of unpaid 5-star reviews\n",
        "unpaid_five_star_reviews = unpaid_df.filter(\"star_rating == 5\").count()\n",
        "unpaid_five_star_reviews"
      ],
      "execution_count": 36,
      "outputs": [
        {
          "output_type": "execute_result",
          "data": {
            "text/plain": [
              "168800"
            ]
          },
          "metadata": {
            "tags": []
          },
          "execution_count": 36
        }
      ]
    },
    {
      "cell_type": "code",
      "metadata": {
        "id": "27RWNzv_avyu"
      },
      "source": [
        "# percentage of paid 5-star reviews\n",
        "percent_paid_five_star_reviews = paid_five_star_reviews/total_number_of_reviews * 100"
      ],
      "execution_count": 38,
      "outputs": []
    },
    {
      "cell_type": "code",
      "metadata": {
        "id": "nyCzCSBheZ2n",
        "outputId": "e6eea4b5-512d-4440-ac7f-c85baef5c2ce",
        "colab": {
          "base_uri": "https://localhost:8080/"
        }
      },
      "source": [
        "round(percent_paid_five_star_reviews, 2)"
      ],
      "execution_count": 39,
      "outputs": [
        {
          "output_type": "execute_result",
          "data": {
            "text/plain": [
              "0.03"
            ]
          },
          "metadata": {
            "tags": []
          },
          "execution_count": 39
        }
      ]
    },
    {
      "cell_type": "code",
      "metadata": {
        "id": "2WDRsOmXfMc2"
      },
      "source": [
        "# percentage of unpaid 5-star reviews\n",
        "percent_unpaid_five_star_reviews = unpaid_five_star_reviews/total_number_of_reviews * 100"
      ],
      "execution_count": 40,
      "outputs": []
    },
    {
      "cell_type": "code",
      "metadata": {
        "id": "5XGnMJaDfbyx",
        "outputId": "ded36568-9b2f-4fef-d8ad-e75c35d3207c",
        "colab": {
          "base_uri": "https://localhost:8080/"
        }
      },
      "source": [
        "round(percent_unpaid_five_star_reviews, 2)"
      ],
      "execution_count": 41,
      "outputs": [
        {
          "output_type": "execute_result",
          "data": {
            "text/plain": [
              "2.76"
            ]
          },
          "metadata": {
            "tags": []
          },
          "execution_count": 41
        }
      ]
    },
    {
      "cell_type": "code",
      "metadata": {
        "id": "usKJ-0yuff3e"
      },
      "source": [
        ""
      ],
      "execution_count": null,
      "outputs": []
    }
  ]
}